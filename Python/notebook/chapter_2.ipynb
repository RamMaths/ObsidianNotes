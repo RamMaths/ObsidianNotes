{
 "cells": [
  {
   "cell_type": "markdown",
   "id": "e5fdf7bf",
   "metadata": {},
   "source": [
    "# Numpy Basics\n",
    "\n",
    "Numpy, short for Numerical Python, is the fundamental package required for high performance scientific computing and data analysis.\n",
    "\n",
    "While numpy by itslef does not provide very much high-level data anlaytical funcionality, having an understanding of NumPy arrays and array-oriented computing will help you use tools like pandas much more effectively.\n",
    "While NumPy provides the computational foundation for these operations, you will likely want to use pandas as your basis for most kids of data analysis as it provides a rich, high-level interface making most common data tasks very concise and simple.\n",
    "\n",
    "## The Numpy ndarray: A Multidimensional Array Object\n",
    "\n",
    "One of the key features of NumPy is its N-dimensional array object, or ndarray, which is a fast, flexible container for large data sets in Python. Arrays enable you to perform mathematical operations on whole blocks of data using similar syntax to the equivalent operations between scalar elements\n",
    "\n",
    "An ndarray is a generic multidimensional container for homogeneous data; that is, <mark>all of the elements must be the same type. Every array has a *shape*, a tuple indicating the size of each dimension, and a *dtype*, an object describing the **data type** of the array.</mark>\n",
    "\n",
    "The easiest way to create an array is to use the `array` function. This accepts any sequence-like object and produces a new NumPy array containing the passed data."
   ]
  },
  {
   "cell_type": "code",
   "execution_count": 1,
   "id": "38246270",
   "metadata": {},
   "outputs": [
    {
     "data": {
      "text/plain": [
       "array([6. , 7.5, 8. , 0. , 1. ])"
      ]
     },
     "execution_count": 1,
     "metadata": {},
     "output_type": "execute_result"
    }
   ],
   "source": [
    "import numpy as np\n",
    "data1 = [6, 7.5, 8, 0, 1]\n",
    "arr1 = np.array(data1)\n",
    "arr1"
   ]
  },
  {
   "cell_type": "markdown",
   "id": "b41fd48c",
   "metadata": {},
   "source": [
    "Nested sequences, like a list of equal-length lists, will be converted into a multidimensional array:"
   ]
  },
  {
   "cell_type": "code",
   "execution_count": 9,
   "id": "88f7778e",
   "metadata": {},
   "outputs": [
    {
     "data": {
      "text/plain": [
       "array([[1, 2, 3, 4],\n",
       "       [5, 6, 7, 8]])"
      ]
     },
     "execution_count": 9,
     "metadata": {},
     "output_type": "execute_result"
    }
   ],
   "source": [
    "data2 = [[1, 2, 3, 4], [5, 6, 7, 8]]\n",
    "arr2 = np.array(data2)\n",
    "arr2"
   ]
  },
  {
   "cell_type": "code",
   "execution_count": 11,
   "id": "be17b62d",
   "metadata": {},
   "outputs": [
    {
     "data": {
      "text/plain": [
       "2"
      ]
     },
     "execution_count": 11,
     "metadata": {},
     "output_type": "execute_result"
    }
   ],
   "source": [
    "arr2.ndim"
   ]
  },
  {
   "cell_type": "code",
   "execution_count": 10,
   "id": "63fd2b31",
   "metadata": {},
   "outputs": [
    {
     "data": {
      "text/plain": [
       "(2, 4)"
      ]
     },
     "execution_count": 10,
     "metadata": {},
     "output_type": "execute_result"
    }
   ],
   "source": [
    "arr2.shape"
   ]
  },
  {
   "cell_type": "markdown",
   "id": "96788128",
   "metadata": {},
   "source": [
    "`np.array` tries to infer a good data type for the array that it creates. The data type is stored in a special *dtype* object."
   ]
  },
  {
   "cell_type": "code",
   "execution_count": 12,
   "id": "c13bf353",
   "metadata": {},
   "outputs": [
    {
     "data": {
      "text/plain": [
       "dtype('float64')"
      ]
     },
     "execution_count": 12,
     "metadata": {},
     "output_type": "execute_result"
    }
   ],
   "source": [
    "arr1.dtype"
   ]
  },
  {
   "cell_type": "markdown",
   "id": "0701a6a7",
   "metadata": {},
   "source": [
    "There are a number of other functions for creating new arrays. As examples, `zeros` and `ones` creates arrays of 0's or 1's, respectively with a given length or shape. `empty` creates an array without initializing its values to any particular value. To create a higher dimensional array with these methods, pass a tuple for the shape"
   ]
  },
  {
   "cell_type": "code",
   "execution_count": 13,
   "id": "ce7c959d",
   "metadata": {},
   "outputs": [
    {
     "data": {
      "text/plain": [
       "array([0., 0., 0., 0., 0., 0., 0., 0., 0., 0.])"
      ]
     },
     "execution_count": 13,
     "metadata": {},
     "output_type": "execute_result"
    }
   ],
   "source": [
    "np.zeros(10)"
   ]
  },
  {
   "cell_type": "code",
   "execution_count": 14,
   "id": "55bf341a",
   "metadata": {},
   "outputs": [
    {
     "data": {
      "text/plain": [
       "array([[0., 0., 0., 0., 0., 0.],\n",
       "       [0., 0., 0., 0., 0., 0.],\n",
       "       [0., 0., 0., 0., 0., 0.]])"
      ]
     },
     "execution_count": 14,
     "metadata": {},
     "output_type": "execute_result"
    }
   ],
   "source": [
    "np.zeros((3,6))"
   ]
  },
  {
   "cell_type": "code",
   "execution_count": 15,
   "id": "805bf10a",
   "metadata": {},
   "outputs": [
    {
     "data": {
      "text/plain": [
       "array([[[0., 0.],\n",
       "        [0., 0.],\n",
       "        [0., 0.]],\n",
       "\n",
       "       [[0., 0.],\n",
       "        [0., 0.],\n",
       "        [0., 0.]]])"
      ]
     },
     "execution_count": 15,
     "metadata": {},
     "output_type": "execute_result"
    }
   ],
   "source": [
    "np.empty((2, 3, 2))"
   ]
  },
  {
   "cell_type": "markdown",
   "id": "717c7269",
   "metadata": {},
   "source": [
    "`arange` is an array-valued version of the built-in Python `range` function."
   ]
  },
  {
   "cell_type": "code",
   "execution_count": 16,
   "id": "adec0e5f",
   "metadata": {},
   "outputs": [
    {
     "data": {
      "text/plain": [
       "array([ 0,  1,  2,  3,  4,  5,  6,  7,  8,  9, 10, 11, 12, 13, 14])"
      ]
     },
     "execution_count": 16,
     "metadata": {},
     "output_type": "execute_result"
    }
   ],
   "source": [
    "np.arange(15)"
   ]
  },
  {
   "cell_type": "markdown",
   "id": "0125fa73",
   "metadata": {},
   "source": [
    "|Function|Description|\n",
    "|:--:|:--:|\n",
    "|`array`|Convert input data to an ndarray either by inferring a dtype or explicitly specifying a `dtype`. Copies the input data by default|\n",
    "|`asarray`|Convert input to ndarray, but do not copy if the inputs is already an ndarray|\n",
    "|`arange`|Like the built-in `range` but returns an ndarray instead of a list|\n",
    "|`ones`, `ones_like`|Produce an array of all 1's with the given shape and dtype. `ones_like` takes another array and produces a ones array of the same shape and dtype|\n",
    "|`zeros`, `zeros_like`| Like `ones` and `ones_like` but producing arrays of 0's instead| \n",
    "|`empty`, `empty_like`| Create new arrays by allocating new memory, but do not populate with any values like `ones`and `zeros`|\n",
    "|`eye`, `identity`| Create a square $N \\times N$ identity matrix (1's on the diagonal and 0's elsewhere)|"
   ]
  },
  {
   "cell_type": "code",
   "execution_count": null,
   "id": "75fd60da",
   "metadata": {},
   "outputs": [],
   "source": []
  }
 ],
 "metadata": {
  "kernelspec": {
   "display_name": "Python 3 (ipykernel)",
   "language": "python",
   "name": "python3"
  },
  "language_info": {
   "codemirror_mode": {
    "name": "ipython",
    "version": 3
   },
   "file_extension": ".py",
   "mimetype": "text/x-python",
   "name": "python",
   "nbconvert_exporter": "python",
   "pygments_lexer": "ipython3",
   "version": "3.10.9"
  }
 },
 "nbformat": 4,
 "nbformat_minor": 5
}
